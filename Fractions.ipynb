{
  "nbformat": 4,
  "nbformat_minor": 0,
  "metadata": {
    "colab": {
      "provenance": []
    },
    "kernelspec": {
      "name": "python3",
      "display_name": "Python 3"
    },
    "language_info": {
      "name": "python"
    }
  },
  "cells": [
    {
      "cell_type": "code",
      "execution_count": null,
      "metadata": {
        "id": "dnpcUzE5KqaU"
      },
      "outputs": [],
      "source": [
        "class Fraction:\n",
        "    def __init__(self, numerator, denominator):\n",
        "        if denominator == 0:\n",
        "            raise ValueError(\"Denominator cannot be zero\")\n",
        "        self.numerator = numerator\n",
        "        self.denominator = denominator\n",
        "        self._simplify()  # Simplify the fraction upon initialization\n",
        "\n",
        "    def _find_gcd(self, a, b):\n",
        "        # Basic method to find GCD without recursion or imported functions\n",
        "        for i in range(min(a, b), 0, -1):\n",
        "            if a % i == 0 and b % i == 0:\n",
        "                return i\n",
        "        return 1\n",
        "\n",
        "    def _simplify(self):\n",
        "        common_divisor = self._find_gcd(abs(self.numerator), abs(self.denominator))\n",
        "        self.numerator //= common_divisor\n",
        "        self.denominator //= common_divisor\n",
        "        if self.denominator < 0:  # Handle negative denominator\n",
        "            self.numerator = -self.numerator\n",
        "            self.denominator = -self.denominator\n",
        "\n",
        "    def add(self, other):\n",
        "        new_numerator = (self.numerator * other.denominator) + (other.numerator * self.denominator)\n",
        "        new_denominator = self.denominator * other.denominator\n",
        "        return Fraction(new_numerator, new_denominator)\n",
        "\n",
        "    def subtract(self, other):\n",
        "        new_numerator = (self.numerator * other.denominator) - (other.numerator * self.denominator)\n",
        "        new_denominator = self.denominator * other.denominator\n",
        "        return Fraction(new_numerator, new_denominator)\n",
        "\n",
        "    def multiply(self, other):\n",
        "        new_numerator = self.numerator * other.numerator\n",
        "        new_denominator = self.denominator * other.denominator\n",
        "        return Fraction(new_numerator, new_denominator)\n",
        "\n",
        "    def divide(self, other):\n",
        "        if other.numerator == 0:\n",
        "            raise ValueError(\"Cannot divide by zero\")\n",
        "        new_numerator = self.numerator * other.denominator\n",
        "        new_denominator = self.denominator * other.numerator\n",
        "        return Fraction(new_numerator, new_denominator)\n",
        "\n",
        "    def __eq__(self, other):\n",
        "        return (self.numerator == other.numerator) and (self.denominator == other.denominator)\n",
        "\n",
        "    def __str__(self):\n",
        "        return f\"{self.numerator}/{self.denominator}\"\n",
        "\n",
        "    def __repr__(self):\n",
        "        return f\"Fraction({self.numerator}, {self.denominator})\"\n"
      ]
    }
  ]
}